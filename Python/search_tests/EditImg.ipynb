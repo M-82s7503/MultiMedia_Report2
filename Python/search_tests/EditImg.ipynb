{
 "cells": [
  {
   "cell_type": "code",
   "execution_count": 2,
   "metadata": {},
   "outputs": [],
   "source": [
    "import sys\n",
    "import cv2\n",
    "from ReinventingTheWheel.tone_curve import ToneCurve\n",
    "\n",
    "def preview(image):\n",
    "    cv2.imshow(\"preview\",image) #画像出力 imshow(window_name, image)\n",
    "    cv2.waitKey()             #キー入力待ち waitKey(delay=0)\n",
    "    cv2.destroyAllWindows()   #ウィンドウを消す destroyAllWindows()\n",
    "\n"
   ]
  },
  {
   "cell_type": "code",
   "execution_count": null,
   "metadata": {},
   "outputs": [],
   "source": [
    "'''\n",
    "BGR の順。\n",
    "image[:, :, (0,2)] = 0\n",
    "の場合、(0,2) すなわち、全ての Blue と Red が選択されて、0が代入される。\n",
    "結果として、緑以外の色がなくなる（緑だけの画像になる）\n",
    "'''\n",
    "\n",
    "\n",
    "# 画像読み込み\n",
    "image = cv2.imread('original.jpg')\n",
    "print(type(image))\n",
    "image = image / 255\n",
    "\n",
    "# 画像を編集\n",
    "tc = ToneCurve()\n",
    "image_edit = tc.tone_curve(image, 2)\n",
    "print(image)\n",
    "print(image_edit)\n",
    "\n",
    "\n",
    "# 画像表示\n",
    "preview(image_edit)\n",
    "\n",
    "#画像保存 imwrite(filename, image)\n",
    "cv2.imwrite(\"result/result.jpg\",image_edit)\n",
    "\n"
   ]
  },
  {
   "cell_type": "code",
   "execution_count": null,
   "metadata": {},
   "outputs": [],
   "source": []
  }
 ],
 "metadata": {
  "kernelspec": {
   "display_name": "Python 3",
   "language": "python",
   "name": "python3"
  },
  "language_info": {
   "codemirror_mode": {
    "name": "ipython",
    "version": 3
   },
   "file_extension": ".py",
   "mimetype": "text/x-python",
   "name": "python",
   "nbconvert_exporter": "python",
   "pygments_lexer": "ipython3",
   "version": "3.6.7"
  }
 },
 "nbformat": 4,
 "nbformat_minor": 2
}
